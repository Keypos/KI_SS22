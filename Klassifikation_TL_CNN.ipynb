{
 "cells": [
  {
   "cell_type": "markdown",
   "metadata": {},
   "source": [
    "## Klassifikation der einzelnen Objecte im mvtec_anomaly_detection Dataset "
   ]
  },
  {
   "cell_type": "markdown",
   "metadata": {},
   "source": [
    "### Importieren der Bibliotheken und Files "
   ]
  },
  {
   "cell_type": "code",
   "execution_count": 24,
   "metadata": {},
   "outputs": [],
   "source": [
    "from read_and_label_Images_only_objects import read_and_label_Images_only_objects\n",
    "from read_and_label_Images import read_and_label_Images\n",
    "import matplotlib.pyplot as plt\n",
    "import numpy as np\n",
    "import os\n",
    "import tensorflow as tf\n",
    "\n",
    "from tensorflow import keras\n",
    "from tensorflow.keras.preprocessing import image_dataset_from_directory\n",
    "from keras import backend as K"
   ]
  },
  {
   "cell_type": "code",
   "execution_count": 15,
   "metadata": {},
   "outputs": [
    {
     "name": "stdout",
     "output_type": "stream",
     "text": [
      "The autoreload extension is already loaded. To reload it, use:\n",
      "  %reload_ext autoreload\n"
     ]
    }
   ],
   "source": [
    "%load_ext autoreload\n",
    "%autoreload 2"
   ]
  },
  {
   "cell_type": "markdown",
   "metadata": {},
   "source": [
    "### Einlesen des Datensatzes und in neuer Ordnerstruktur abspeichern"
   ]
  },
  {
   "cell_type": "code",
   "execution_count": 16,
   "metadata": {},
   "outputs": [],
   "source": [
    "src_path=\"orginal_Dataset/mvtec_anomaly_detection/\" #Angabe des Pfades zum Unveränderten Datensatz \n",
    "dst_path=\"Set_01/\" #Ablageort des neuen Datensatzes \n",
    "\n",
    "\n",
    "if not os.path.exists(dst_path): #Nur erstellen, wenn noch nicht vorhanden \n",
    "    read_and_label_Images_only_objects(src_path,dst_path) # Daten sind nur noach Objekt sortiert keine Sortierung nach gut und schlecht \n"
   ]
  },
  {
   "cell_type": "markdown",
   "metadata": {},
   "source": [
    "### Aufteilen der Daten in Trainings und Validierungsdaten "
   ]
  },
  {
   "cell_type": "code",
   "execution_count": 17,
   "metadata": {},
   "outputs": [
    {
     "name": "stdout",
     "output_type": "stream",
     "text": [
      "Found 5354 files belonging to 15 classes.\n",
      "Using 4284 files for training.\n",
      "Found 5354 files belonging to 15 classes.\n",
      "Using 1070 files for validation.\n"
     ]
    }
   ],
   "source": [
    "# returns a tf.data.Dataset Object\n",
    "training_set = image_dataset_from_directory(dst_path,\n",
    "                                             shuffle=True,\n",
    "                                             validation_split=0.2,\n",
    "                                             subset=\"training\",\n",
    "                                             batch_size=32,\n",
    "                                             image_size=(150, 150),\n",
    "                                             seed=1337,\n",
    "                                             label_mode = 'categorical')\n",
    "\n",
    "val_dataset = image_dataset_from_directory(dst_path,\n",
    "                                                  shuffle=True,\n",
    "                                                  validation_split=0.2,\n",
    "                                                  subset='validation',\n",
    "                                                  batch_size=32,\n",
    "                                                  image_size=(150, 150),\n",
    "                                                  seed=1337,\n",
    "                                                  label_mode = 'categorical')"
   ]
  },
  {
   "cell_type": "markdown",
   "metadata": {},
   "source": [
    "### Erstellen eigener Metrics "
   ]
  },
  {
   "cell_type": "code",
   "execution_count": 25,
   "metadata": {},
   "outputs": [],
   "source": [
    "\n",
    "\n",
    "def recall_m(y_true, y_pred):\n",
    "    true_positives = K.sum(K.round(K.clip(y_true * y_pred, 0, 1)))\n",
    "    possible_positives = K.sum(K.round(K.clip(y_true, 0, 1)))\n",
    "    recall = true_positives / (possible_positives + K.epsilon())\n",
    "    return recall\n",
    "\n",
    "def precision_m(y_true, y_pred):\n",
    "    true_positives = K.sum(K.round(K.clip(y_true * y_pred, 0, 1)))\n",
    "    predicted_positives = K.sum(K.round(K.clip(y_pred, 0, 1)))\n",
    "    precision = true_positives / (predicted_positives + K.epsilon())\n",
    "    return precision\n",
    "\n",
    "def f1_m(y_true, y_pred):\n",
    "    precision = precision_m(y_true, y_pred)\n",
    "    recall = recall_m(y_true, y_pred)\n",
    "    return 2*((precision*recall)/(precision+recall+K.epsilon()))"
   ]
  },
  {
   "cell_type": "markdown",
   "metadata": {},
   "source": [
    "### Erzeugen eines Data Augemnatation Layer mit Keras "
   ]
  },
  {
   "cell_type": "code",
   "execution_count": 26,
   "metadata": {},
   "outputs": [],
   "source": [
    "data_augmentation = keras.Sequential(\n",
    "    [       keras.layers.experimental.preprocessing.RandomFlip(\"horizontal\"),\n",
    "   keras.layers.experimental.preprocessing.RandomRotation(0.1),\n",
    "    ]\n",
    ")"
   ]
  },
  {
   "cell_type": "markdown",
   "metadata": {},
   "source": [
    "### Laden des vortrainierten Netzes (ResNetV2)"
   ]
  },
  {
   "cell_type": "code",
   "execution_count": 27,
   "metadata": {},
   "outputs": [],
   "source": [
    "base_model = keras.applications.InceptionResNetV2(\n",
    "    weights=\"imagenet\",  # Load weights pre-trained on ImageNet.\n",
    "    input_shape=(150, 150, 3),\n",
    "    include_top=False,\n",
    ")"
   ]
  },
  {
   "cell_type": "markdown",
   "metadata": {},
   "source": [
    "## Erstellen und Trainieren des KI Modells\n",
    "\n",
    "Input-Layer wird für unsere Bilder angepasst <br>\n",
    "Danach kommt ein Data-Augmentation-Layer und Layer zum anpassen der Bilder<br>\n",
    "Das Basis-Modell wird angefügt und die letzten Layer inklusive Output-Layer wird für unsere Ergebnisse angepasst\n"
   ]
  },
  {
   "cell_type": "code",
   "execution_count": 31,
   "metadata": {},
   "outputs": [],
   "source": [
    "base_model.trainable = False\n",
    "\n",
    "\n",
    "\n",
    "inputs = keras.Input(shape=(150, 150, 3))\n",
    "x = data_augmentation(inputs) \n",
    "scale_layer = keras.layers.Rescaling(scale=1 / 127.5, offset=-1)\n",
    "x = scale_layer(x)\n",
    "#x = tf.keras.applications.InceptionResNetV2.preprocess_input(x)\n",
    "x = base_model(x, training=False)\n",
    "x = keras.layers.GlobalAveragePooling2D()(x)\n",
    "x = keras.layers.Dropout(0.2)(x)  \n",
    "outputs = keras.layers.Dense(15,activation='softmax')(x)\n",
    "model = keras.Model(inputs, outputs)"
   ]
  },
  {
   "cell_type": "code",
   "execution_count": 33,
   "metadata": {},
   "outputs": [
    {
     "name": "stdout",
     "output_type": "stream",
     "text": [
      "Epoch 1/2\n",
      "134/134 [==============================] - 186s 1s/step - loss: 0.0527 - accuracy: 0.9986 - f1_m: 0.9836 - precision_m: 0.9986 - recall_m: 0.9697 - val_loss: 0.0474 - val_accuracy: 0.9963 - val_f1_m: 0.9935 - val_precision_m: 0.9963 - val_recall_m: 0.9908\n",
      "Epoch 2/2\n",
      "134/134 [==============================] - 216s 2s/step - loss: 0.0262 - accuracy: 0.9993 - f1_m: 0.9938 - precision_m: 0.9993 - recall_m: 0.9886 - val_loss: 0.0247 - val_accuracy: 0.9991 - val_f1_m: 0.9981 - val_precision_m: 0.9991 - val_recall_m: 0.9972\n"
     ]
    }
   ],
   "source": [
    "model.compile(optimizer='adam', loss=tf.keras.losses.CategoricalCrossentropy(),metrics=['accuracy',f1_m,precision_m, recall_m])\n",
    "\n",
    "history = model.fit(training_set, epochs=2, validation_data=val_dataset)\n"
   ]
  },
  {
   "cell_type": "markdown",
   "metadata": {},
   "source": [
    "### Modell abspeichern"
   ]
  },
  {
   "cell_type": "code",
   "execution_count": 42,
   "metadata": {},
   "outputs": [],
   "source": [
    "#TODO Modell Laden geht nicht Unable to restore custom object of type _tf_keras_metric.\n",
    "# model.save(\"Models/A1_TL_Objects\")\n",
    "# loaded_model=keras.models.load_model(\"Models/A1_TL_Objects\")"
   ]
  },
  {
   "cell_type": "markdown",
   "metadata": {},
   "source": [
    "### Anzeigen der Metrics "
   ]
  },
  {
   "cell_type": "code",
   "execution_count": 43,
   "metadata": {},
   "outputs": [
    {
     "data": {
      "image/png": "[encoded data removed]",
      "text/plain": [
       "<Figure size 576x576 with 2 Axes>"
      ]
     },
     "metadata": {
      "needs_background": "light"
     },
     "output_type": "display_data"
    }
   ],
   "source": [
    "acc = history.history['accuracy']\n",
    "val_acc = history.history['val_accuracy']\n",
    "\n",
    "loss = history.history['loss']\n",
    "val_loss = history.history['val_loss']\n",
    "\n",
    "plt.figure(figsize=(8, 8))\n",
    "plt.subplot(2, 1, 1)\n",
    "plt.plot(acc, label='Training Accuracy')\n",
    "plt.plot(val_acc, label='Validation Accuracy')\n",
    "plt.legend(loc='lower right')\n",
    "plt.ylabel('Accuracy')\n",
    "plt.ylim([min(plt.ylim()),1])\n",
    "plt.title('Training and Validation Accuracy')\n",
    "\n",
    "plt.subplot(2, 1, 2)\n",
    "plt.plot(loss, label='Training Loss')\n",
    "plt.plot(val_loss, label='Validation Loss')\n",
    "plt.legend(loc='upper right')\n",
    "plt.ylabel('Cross Entropy')\n",
    "plt.ylim([0,1.0])\n",
    "plt.title('Training and Validation Loss')\n",
    "plt.xlabel('epoch')\n",
    "plt.show()"
   ]
  },
  {
   "cell_type": "markdown",
   "metadata": {},
   "source": [
    "### Traineren des Modells: Fine-Tuning\n",
    "Nun wird eingestellt, dass auch die Gewichte des Basis-Modells trainiert werden können. Jedoch nur mit geringer Lernrate"
   ]
  },
  {
   "cell_type": "code",
   "execution_count": 46,
   "metadata": {},
   "outputs": [
    {
     "name": "stdout",
     "output_type": "stream",
     "text": [
      "Model: \"model_2\"\n",
      "_________________________________________________________________\n",
      " Layer (type)                Output Shape              Param #   \n",
      "=================================================================\n",
      " input_5 (InputLayer)        [(None, 150, 150, 3)]     0         \n",
      "                                                                 \n",
      " sequential_1 (Sequential)   (None, 150, 150, 3)       0         \n",
      "                                                                 \n",
      " rescaling_2 (Rescaling)     (None, 150, 150, 3)       0         \n",
      "                                                                 \n",
      " inception_resnet_v2 (Functi  (None, 3, 3, 1536)       54336736  \n",
      " onal)                                                           \n",
      "                                                                 \n",
      " global_average_pooling2d_2   (None, 1536)             0         \n",
      " (GlobalAveragePooling2D)                                        \n",
      "                                                                 \n",
      " dropout_2 (Dropout)         (None, 1536)              0         \n",
      "                                                                 \n",
      " dense_2 (Dense)             (None, 15)                23055     \n",
      "                                                                 \n",
      "=================================================================\n",
      "Total params: 54,359,791\n",
      "Trainable params: 54,299,247\n",
      "Non-trainable params: 60,544\n",
      "_________________________________________________________________\n",
      "134/134 [==============================] - 989s 7s/step - loss: 5.6002e-05 - accuracy: 1.0000 - f1_m: 1.0000 - precision_m: 1.0000 - recall_m: 1.0000 - val_loss: 0.0012 - val_accuracy: 0.9991 - val_f1_m: 0.9995 - val_precision_m: 1.0000 - val_recall_m: 0.9991\n"
     ]
    }
   ],
   "source": [
    "base_model.trainable = True\n",
    "model.summary()\n",
    "\n",
    "model.compile(\n",
    "    optimizer=keras.optimizers.Adam(1e-5),  # Low learning rate\n",
    "    loss=tf.keras.losses.CategoricalCrossentropy(),metrics=['accuracy',f1_m,precision_m, recall_m]\n",
    ")\n",
    "\n",
    "history = model.fit(training_set, epochs=1, validation_data=val_dataset)"
   ]
  },
  {
   "cell_type": "markdown",
   "metadata": {},
   "source": [
    "### Anzeigen der Metrics "
   ]
  },
  {
   "cell_type": "code",
   "execution_count": 47,
   "metadata": {},
   "outputs": [
    {
     "data": {
      "image/png": "[encoded data removed]",
      "text/plain": [
       "<Figure size 576x576 with 2 Axes>"
      ]
     },
     "metadata": {
      "needs_background": "light"
     },
     "output_type": "display_data"
    }
   ],
   "source": [
    "acc = history.history['accuracy']\n",
    "val_acc = history.history['val_accuracy']\n",
    "\n",
    "loss = history.history['loss']\n",
    "val_loss = history.history['val_loss']\n",
    "\n",
    "plt.figure(figsize=(8, 8))\n",
    "plt.subplot(2, 1, 1)\n",
    "plt.plot(acc, label='Training Accuracy')\n",
    "plt.plot(val_acc, label='Validation Accuracy')\n",
    "plt.legend(loc='lower right')\n",
    "plt.ylabel('Accuracy')\n",
    "plt.ylim([min(plt.ylim()),1])\n",
    "plt.title('Training and Validation Accuracy')\n",
    "\n",
    "plt.subplot(2, 1, 2)\n",
    "plt.plot(loss, label='Training Loss')\n",
    "plt.plot(val_loss, label='Validation Loss')\n",
    "plt.legend(loc='upper right')\n",
    "plt.ylabel('Cross Entropy')\n",
    "plt.ylim([0,1.0])\n",
    "plt.title('Training and Validation Loss')\n",
    "plt.xlabel('epoch')\n",
    "plt.show()"
   ]
  },
  {
   "cell_type": "markdown",
   "metadata": {},
   "source": [
    "### Abspeichern des Trainierten Modells "
   ]
  },
  {
   "cell_type": "code",
   "execution_count": 54,
   "metadata": {},
   "outputs": [],
   "source": [
    "model.save('Models/A1_TL_OO.h5')\n",
    "loaded_model=keras.models.load_model('Models/A1_TL_OO.h5',custom_objects={\"f1_m\":f1_m,\"precision_m\":precision_m,\"recall_m\":recall_m})"
   ]
  },
  {
   "cell_type": "markdown",
   "metadata": {},
   "source": [
    "### Bestimmen der Klasse mit dem Trainierten Modell "
   ]
  },
  {
   "cell_type": "code",
   "execution_count": 56,
   "metadata": {},
   "outputs": [
    {
     "ename": "error",
     "evalue": "OpenCV(4.5.5) D:\\a\\opencv-python\\opencv-python\\opencv\\modules\\imgproc\\src\\resize.cpp:4052: error: (-215:Assertion failed) !ssize.empty() in function 'cv::resize'\n",
     "output_type": "error",
     "traceback": [
      "\u001b[1;31m---------------------------------------------------------------------------\u001b[0m",
      "\u001b[1;31merror\u001b[0m                                     Traceback (most recent call last)",
      "\u001b[1;32mc:\\Users\\Jonas\\Documents\\Git_Repos\\KI_SS22\\Klassifikation_TL_CNN.ipynb Cell 29'\u001b[0m in \u001b[0;36m<cell line: 9>\u001b[1;34m()\u001b[0m\n\u001b[0;32m      <a href='vscode-notebook-cell:/c%3A/Users/Jonas/Documents/Git_Repos/KI_SS22/Klassifikation_TL_CNN.ipynb#ch0000033?line=5'>6</a>\u001b[0m    np_image \u001b[39m=\u001b[39m np\u001b[39m.\u001b[39mexpand_dims(np_image, axis\u001b[39m=\u001b[39m\u001b[39m0\u001b[39m)\n\u001b[0;32m      <a href='vscode-notebook-cell:/c%3A/Users/Jonas/Documents/Git_Repos/KI_SS22/Klassifikation_TL_CNN.ipynb#ch0000033?line=6'>7</a>\u001b[0m    \u001b[39mreturn\u001b[39;00m np_image\n\u001b[1;32m----> <a href='vscode-notebook-cell:/c%3A/Users/Jonas/Documents/Git_Repos/KI_SS22/Klassifikation_TL_CNN.ipynb#ch0000033?line=8'>9</a>\u001b[0m image \u001b[39m=\u001b[39m load(\u001b[39m'\u001b[39;49m\u001b[39mweiss.JPG\u001b[39;49m\u001b[39m'\u001b[39;49m)\n\u001b[0;32m     <a href='vscode-notebook-cell:/c%3A/Users/Jonas/Documents/Git_Repos/KI_SS22/Klassifikation_TL_CNN.ipynb#ch0000033?line=9'>10</a>\u001b[0m \u001b[39m#0: Dosenoeffner   1:Flaschenoeffner   2:Korkenzieher\u001b[39;00m\n\u001b[0;32m     <a href='vscode-notebook-cell:/c%3A/Users/Jonas/Documents/Git_Repos/KI_SS22/Klassifikation_TL_CNN.ipynb#ch0000033?line=10'>11</a>\u001b[0m model\u001b[39m.\u001b[39mpredict(image)\n",
      "\u001b[1;32mc:\\Users\\Jonas\\Documents\\Git_Repos\\KI_SS22\\Klassifikation_TL_CNN.ipynb Cell 29'\u001b[0m in \u001b[0;36mload\u001b[1;34m(filename)\u001b[0m\n\u001b[0;32m      <a href='vscode-notebook-cell:/c%3A/Users/Jonas/Documents/Git_Repos/KI_SS22/Klassifikation_TL_CNN.ipynb#ch0000033?line=2'>3</a>\u001b[0m \u001b[39mdef\u001b[39;00m \u001b[39mload\u001b[39m(filename):\n\u001b[0;32m      <a href='vscode-notebook-cell:/c%3A/Users/Jonas/Documents/Git_Repos/KI_SS22/Klassifikation_TL_CNN.ipynb#ch0000033?line=3'>4</a>\u001b[0m    np_image \u001b[39m=\u001b[39m cv2\u001b[39m.\u001b[39mimread(filename)\n\u001b[1;32m----> <a href='vscode-notebook-cell:/c%3A/Users/Jonas/Documents/Git_Repos/KI_SS22/Klassifikation_TL_CNN.ipynb#ch0000033?line=4'>5</a>\u001b[0m    np_image \u001b[39m=\u001b[39m cv2\u001b[39m.\u001b[39;49mresize(np_image, (\u001b[39m150\u001b[39;49m, \u001b[39m150\u001b[39;49m))\n\u001b[0;32m      <a href='vscode-notebook-cell:/c%3A/Users/Jonas/Documents/Git_Repos/KI_SS22/Klassifikation_TL_CNN.ipynb#ch0000033?line=5'>6</a>\u001b[0m    np_image \u001b[39m=\u001b[39m np\u001b[39m.\u001b[39mexpand_dims(np_image, axis\u001b[39m=\u001b[39m\u001b[39m0\u001b[39m)\n\u001b[0;32m      <a href='vscode-notebook-cell:/c%3A/Users/Jonas/Documents/Git_Repos/KI_SS22/Klassifikation_TL_CNN.ipynb#ch0000033?line=6'>7</a>\u001b[0m    \u001b[39mreturn\u001b[39;00m np_image\n",
      "\u001b[1;31merror\u001b[0m: OpenCV(4.5.5) D:\\a\\opencv-python\\opencv-python\\opencv\\modules\\imgproc\\src\\resize.cpp:4052: error: (-215:Assertion failed) !ssize.empty() in function 'cv::resize'\n"
     ]
    }
   ],
   "source": [
    "import cv2\n",
    "import numpy as np\n",
    "def load(filename):\n",
    "   np_image = cv2.imread(filename)\n",
    "   np_image = cv2.resize(np_image, (150, 150))\n",
    "   np_image = np.expand_dims(np_image, axis=0)\n",
    "   return np_image\n",
    "\n",
    "image = load('weiss.JPG')\n",
    "#0: Dosenoeffner   1:Flaschenoeffner   2:Korkenzieher\n",
    "model.predict(image)"
   ]
  },
  {
   "cell_type": "code",
   "execution_count": 70,
   "metadata": {},
   "outputs": [
    {
     "ename": "InvalidArgumentError",
     "evalue": "Dataset had more than one element. [Op:DatasetToSingleElement]",
     "output_type": "error",
     "traceback": [
      "\u001b[1;31m---------------------------------------------------------------------------\u001b[0m",
      "\u001b[1;31mInvalidArgumentError\u001b[0m                      Traceback (most recent call last)",
      "\u001b[1;32mc:\\Users\\Jonas\\Documents\\Git_Repos\\KI_SS22\\Klassifikation_TL_CNN.ipynb Cell 30'\u001b[0m in \u001b[0;36m<cell line: 1>\u001b[1;34m()\u001b[0m\n\u001b[1;32m----> <a href='vscode-notebook-cell:/c%3A/Users/Jonas/Documents/Git_Repos/KI_SS22/Klassifikation_TL_CNN.ipynb#ch0000036?line=0'>1</a>\u001b[0m image\u001b[39m=\u001b[39mval_dataset\u001b[39m.\u001b[39;49mget_single_element()\n",
      "File \u001b[1;32mc:\\Users\\Jonas\\Documents\\Git_Repos\\KI_SS22\\env\\lib\\site-packages\\tensorflow\\python\\data\\ops\\dataset_ops.py:2636\u001b[0m, in \u001b[0;36mDatasetV2.get_single_element\u001b[1;34m(self, name)\u001b[0m\n\u001b[0;32m   <a href='file:///c%3A/Users/Jonas/Documents/Git_Repos/KI_SS22/env/lib/site-packages/tensorflow/python/data/ops/dataset_ops.py?line=2631'>2632</a>\u001b[0m \u001b[39mif\u001b[39;00m name:\n\u001b[0;32m   <a href='file:///c%3A/Users/Jonas/Documents/Git_Repos/KI_SS22/env/lib/site-packages/tensorflow/python/data/ops/dataset_ops.py?line=2632'>2633</a>\u001b[0m   metadata\u001b[39m.\u001b[39mname \u001b[39m=\u001b[39m _validate_and_encode(name)\n\u001b[0;32m   <a href='file:///c%3A/Users/Jonas/Documents/Git_Repos/KI_SS22/env/lib/site-packages/tensorflow/python/data/ops/dataset_ops.py?line=2633'>2634</a>\u001b[0m \u001b[39mreturn\u001b[39;00m structure\u001b[39m.\u001b[39mfrom_compatible_tensor_list(\n\u001b[0;32m   <a href='file:///c%3A/Users/Jonas/Documents/Git_Repos/KI_SS22/env/lib/site-packages/tensorflow/python/data/ops/dataset_ops.py?line=2634'>2635</a>\u001b[0m     \u001b[39mself\u001b[39m\u001b[39m.\u001b[39melement_spec,\n\u001b[1;32m-> <a href='file:///c%3A/Users/Jonas/Documents/Git_Repos/KI_SS22/env/lib/site-packages/tensorflow/python/data/ops/dataset_ops.py?line=2635'>2636</a>\u001b[0m     gen_dataset_ops\u001b[39m.\u001b[39mdataset_to_single_element(\n\u001b[0;32m   <a href='file:///c%3A/Users/Jonas/Documents/Git_Repos/KI_SS22/env/lib/site-packages/tensorflow/python/data/ops/dataset_ops.py?line=2636'>2637</a>\u001b[0m         \u001b[39mself\u001b[39m\u001b[39m.\u001b[39m_variant_tensor,\n\u001b[0;32m   <a href='file:///c%3A/Users/Jonas/Documents/Git_Repos/KI_SS22/env/lib/site-packages/tensorflow/python/data/ops/dataset_ops.py?line=2637'>2638</a>\u001b[0m         metadata\u001b[39m=\u001b[39mmetadata\u001b[39m.\u001b[39mSerializeToString(),\n\u001b[0;32m   <a href='file:///c%3A/Users/Jonas/Documents/Git_Repos/KI_SS22/env/lib/site-packages/tensorflow/python/data/ops/dataset_ops.py?line=2638'>2639</a>\u001b[0m         \u001b[39m*\u001b[39m\u001b[39m*\u001b[39m\u001b[39mself\u001b[39m\u001b[39m.\u001b[39m_flat_structure))\n",
      "File \u001b[1;32mc:\\Users\\Jonas\\Documents\\Git_Repos\\KI_SS22\\env\\lib\\site-packages\\tensorflow\\python\\ops\\gen_dataset_ops.py:1317\u001b[0m, in \u001b[0;36mdataset_to_single_element\u001b[1;34m(dataset, output_types, output_shapes, metadata, name)\u001b[0m\n\u001b[0;32m   <a href='file:///c%3A/Users/Jonas/Documents/Git_Repos/KI_SS22/env/lib/site-packages/tensorflow/python/ops/gen_dataset_ops.py?line=1314'>1315</a>\u001b[0m   \u001b[39mreturn\u001b[39;00m _result\n\u001b[0;32m   <a href='file:///c%3A/Users/Jonas/Documents/Git_Repos/KI_SS22/env/lib/site-packages/tensorflow/python/ops/gen_dataset_ops.py?line=1315'>1316</a>\u001b[0m \u001b[39mexcept\u001b[39;00m _core\u001b[39m.\u001b[39m_NotOkStatusException \u001b[39mas\u001b[39;00m e:\n\u001b[1;32m-> <a href='file:///c%3A/Users/Jonas/Documents/Git_Repos/KI_SS22/env/lib/site-packages/tensorflow/python/ops/gen_dataset_ops.py?line=1316'>1317</a>\u001b[0m   _ops\u001b[39m.\u001b[39;49mraise_from_not_ok_status(e, name)\n\u001b[0;32m   <a href='file:///c%3A/Users/Jonas/Documents/Git_Repos/KI_SS22/env/lib/site-packages/tensorflow/python/ops/gen_dataset_ops.py?line=1317'>1318</a>\u001b[0m \u001b[39mexcept\u001b[39;00m _core\u001b[39m.\u001b[39m_FallbackException:\n\u001b[0;32m   <a href='file:///c%3A/Users/Jonas/Documents/Git_Repos/KI_SS22/env/lib/site-packages/tensorflow/python/ops/gen_dataset_ops.py?line=1318'>1319</a>\u001b[0m   \u001b[39mpass\u001b[39;00m\n",
      "File \u001b[1;32mc:\\Users\\Jonas\\Documents\\Git_Repos\\KI_SS22\\env\\lib\\site-packages\\tensorflow\\python\\framework\\ops.py:7186\u001b[0m, in \u001b[0;36mraise_from_not_ok_status\u001b[1;34m(e, name)\u001b[0m\n\u001b[0;32m   <a href='file:///c%3A/Users/Jonas/Documents/Git_Repos/KI_SS22/env/lib/site-packages/tensorflow/python/framework/ops.py?line=7183'>7184</a>\u001b[0m \u001b[39mdef\u001b[39;00m \u001b[39mraise_from_not_ok_status\u001b[39m(e, name):\n\u001b[0;32m   <a href='file:///c%3A/Users/Jonas/Documents/Git_Repos/KI_SS22/env/lib/site-packages/tensorflow/python/framework/ops.py?line=7184'>7185</a>\u001b[0m   e\u001b[39m.\u001b[39mmessage \u001b[39m+\u001b[39m\u001b[39m=\u001b[39m (\u001b[39m\"\u001b[39m\u001b[39m name: \u001b[39m\u001b[39m\"\u001b[39m \u001b[39m+\u001b[39m name \u001b[39mif\u001b[39;00m name \u001b[39mis\u001b[39;00m \u001b[39mnot\u001b[39;00m \u001b[39mNone\u001b[39;00m \u001b[39melse\u001b[39;00m \u001b[39m\"\u001b[39m\u001b[39m\"\u001b[39m)\n\u001b[1;32m-> <a href='file:///c%3A/Users/Jonas/Documents/Git_Repos/KI_SS22/env/lib/site-packages/tensorflow/python/framework/ops.py?line=7185'>7186</a>\u001b[0m   \u001b[39mraise\u001b[39;00m core\u001b[39m.\u001b[39m_status_to_exception(e) \u001b[39mfrom\u001b[39;00m \u001b[39mNone\u001b[39m\n",
      "\u001b[1;31mInvalidArgumentError\u001b[0m: Dataset had more than one element. [Op:DatasetToSingleElement]"
     ]
    }
   ],
   "source": [
    "image=val_dataset.get_single_element()\n",
    "val_dataset.sample_from_datasets\n"
   ]
  },
  {
   "cell_type": "code",
   "execution_count": null,
   "metadata": {},
   "outputs": [],
   "source": []
  }
 ],
 "metadata": {
  "interpreter": {
   "hash": "0943f7116b2a8fa91eadbe0bd7d816abf4b35dbcadaf126427f0f6a21764a67e"
  },
  "kernelspec": {
   "display_name": "Python 3.10.4 ('env': venv)",
   "language": "python",
   "name": "python3"
  },
  "language_info": {
   "codemirror_mode": {
    "name": "ipython",
    "version": 3
   },
   "file_extension": ".py",
   "mimetype": "text/x-python",
   "name": "python",
   "nbconvert_exporter": "python",
   "pygments_lexer": "ipython3",
   "version": "3.10.4"
  },
  "orig_nbformat": 4
 },
 "nbformat": 4,
 "nbformat_minor": 2
}
