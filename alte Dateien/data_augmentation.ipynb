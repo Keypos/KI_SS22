{
 "cells": [
  {
   "cell_type": "markdown",
   "metadata": {},
   "source": [
    "## Data Augemntation \n",
    "\n"
   ]
  },
  {
   "cell_type": "code",
   "execution_count": 1,
   "metadata": {},
   "outputs": [],
   "source": [
    "from read_and_label_Images import read_and_label_Images\n",
    "import data_aug as dat_aug\n",
    "import os \n",
    "import glob\n",
    "import shutil"
   ]
  },
  {
   "cell_type": "code",
   "execution_count": 2,
   "metadata": {},
   "outputs": [],
   "source": [
    "src_path=r\"orginal_Dataset\\mvtec_anomaly_detection\"\n",
    "dst_path=r\"Datasets\\Set_04\"\n",
    "aug_path=r\"Datasets\\Set_04_aug\""
   ]
  },
  {
   "cell_type": "code",
   "execution_count": 3,
   "metadata": {},
   "outputs": [
    {
     "name": "stdout",
     "output_type": "stream",
     "text": [
      "Pfad existiert schon\n"
     ]
    }
   ],
   "source": [
    "read_and_label_Images(src_path,dst_path)"
   ]
  },
  {
   "cell_type": "markdown",
   "metadata": {},
   "source": [
    "\n",
    "#print(objects)\n",
    "#print(sub_folders)\n",
    "\n",
    "    for i in range(len(objects)):\n",
    "    for n in range(len(sub_folders)):\n",
    "\n",
    "    og_images=dat_aug.data_aug(dst_path+objects[i]+\"/\"+sub_folders[n])\n",
    "    og_images.save_imgs(aug_path+objects[i]+\"/\"+sub_folders[n],5)\n",
    "    good_img_count=os.listdir(aug_path+objects[i]+\"/\"+sub_folders[n])\n",
    "    bad_img_count=os.listdir(dst_path+objects[i]+\"/\"+sub_folders[n])\n",
    "    dif_img=len(good_img_count)-len(bad_img_count)\n",
    "    multi=int(dif_img/len(bad_img_count))\n",
    "    if n == 2:\n",
    "    og_images=dat_aug.data_aug(dst_path+objects[i]+\"/\"+sub_folders[n])\n",
    "    og_images.save_imgs(aug_path+objects[i]+\"/\"+sub_folders[n],multi)\n",
    "            "
   ]
  },
  {
   "cell_type": "code",
   "execution_count": 4,
   "metadata": {},
   "outputs": [],
   "source": [
    "objects=os.listdir(dst_path)\n",
    "#print(objects)\n",
    "\n",
    "for i in range(len(objects)):\n",
    "    og_images=dat_aug.data_aug(os.sep.join([dst_path,objects[i]]))\n",
    "    og_images.save_imgs(os.sep.join([aug_path,objects[i]]),5)\n",
    "\n",
    "    "
   ]
  },
  {
   "cell_type": "code",
   "execution_count": 5,
   "metadata": {},
   "outputs": [],
   "source": [
    "if not os.path.exists(os.sep.join([aug_path+\"2\"])):\n",
    "    os.makedirs(os.sep.join([aug_path+\"2\"]))\n",
    "folders=os.listdir(aug_path)\n",
    "    \n",
    "    \n",
    "    \n",
    "    \n",
    "for t in range(len(folders)):\n",
    "\n",
    "    if not not os.path.exists(os.sep.join([aug_path+\"2\",folders[t],\"bad\"])):\n",
    "        os.makedirs(os.sep.join([aug_path+\"2\",folders[t],\"bad\"]))\n",
    "    if not not os.path.exists(os.sep.join([aug_path+\"2\",folders[t],\"good\"])):\n",
    "        os.makedirs(os.sep.join([aug_path+\"2\",folders[t],\"good\"]))\n",
    "\n",
    "    \n",
    "\n",
    "                      \n",
    "                                   "
   ]
  },
  {
   "cell_type": "code",
   "execution_count": null,
   "metadata": {},
   "outputs": [],
   "source": [
    "for k in range(len(folders)):\n",
    "    subsub_foler=os.listdir(os.sep.join([aug_path,folders[k]]))\n",
    "    for n in range(len(subsub_foler)):\n",
    "        if subsub_foler[n]==\"bad\":\n",
    "            bad_count=len(os.listdir(os.sep.join([aug_path,folders[k],subsub_foler[n]])))\n",
    "            for jpgfile in glob.iglob(os.path.join(aug_path,folders[k],subsub_foler[n],\"*.png\")):\n",
    "                shutil.copy(jpgfile, aug_path+\"2/\"+folders[k]+'/bad/')\n",
    "                "
   ]
  }
 ],
 "metadata": {
  "interpreter": {
   "hash": "024fb71b2d2ba1e4a10c6444c3aec0a2b71ae126bb8f2b9268d1acb7c922ad12"
  },
  "kernelspec": {
   "display_name": "Python 3.9.9 ('venv': venv)",
   "language": "python",
   "name": "python3"
  },
  "language_info": {
   "codemirror_mode": {
    "name": "ipython",
    "version": 3
   },
   "file_extension": ".py",
   "mimetype": "text/x-python",
   "name": "python",
   "nbconvert_exporter": "python",
   "pygments_lexer": "ipython3",
   "version": "3.9.9"
  },
  "orig_nbformat": 4
 },
 "nbformat": 4,
 "nbformat_minor": 2
}
