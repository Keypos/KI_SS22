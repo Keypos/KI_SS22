{
 "cells": [
  {
   "cell_type": "markdown",
   "metadata": {},
   "source": [
    "### Einlesen des Datensatzes \n"
   ]
  },
  {
   "cell_type": "code",
   "execution_count": 1,
   "metadata": {},
   "outputs": [],
   "source": [
    "import numpy as np \n",
    "import pandas as np \n",
    "import os \n",
    "import shutil\n",
    "import glob\n",
    "import uuid"
   ]
  },
  {
   "cell_type": "code",
   "execution_count": 7,
   "metadata": {},
   "outputs": [],
   "source": [
    "dir=\"C:/Users/jonas/Documents/08_Master/Semester_02/KI_SS22/mvtec_anomaly_detection/\"\n",
    "\n",
    "\n",
    "#neues Verzeichnis erstellen\n",
    "objects=[]\n",
    "objects_0=os.listdir(dir)\n",
    "\n",
    "#Alle Datein die Keine Verzeichniss sind löschen\n",
    "for k in range(len(objects_0)):\n",
    "    if os.path.isdir(dir+objects_0[k]):\n",
    "        objects.append(objects_0[k])\n",
    "\n",
    "\n",
    "if not os.path.exists('bereinigte_Images/'):\n",
    "    os.makedirs('bereinigte_Images/')\n",
    "\n",
    "for member in range(len(objects)):\n",
    "    if not os.path.exists('bereinigte_Images/'+ objects[member]):\n",
    "        os.makedirs('bereinigte_Images/'+objects[member])\n",
    "    if not os.path.exists('bereinigte_Images/'+ objects[member]+'/good'):\n",
    "         os.makedirs('bereinigte_Images/'+objects[member]+'/good')\n",
    "    if not os.path.exists('bereinigte_Images/'+ objects[member]+'/bad'):\n",
    "         os.makedirs('bereinigte_Images/'+objects[member]+'/bad')\n",
    "\n",
    "\n",
    "# Daten in neues Verzeichnis kopieren \n",
    "dst_dir='bereinigte_Images/'\n",
    "scr_dir='C:/Users/jonas/Documents/08_Master/Semester_02/KI_SS22/mvtec_anomaly_detection/'\n",
    "\n",
    "\n",
    "\n",
    "for member in range(len(objects)):\n",
    "    folder_list=['/train','/test']\n",
    "    for i in range(len(folder_list)):\n",
    "        scr_dir2=scr_dir+objects[member]+folder_list[i]\n",
    "        labels=os.listdir(scr_dir2)\n",
    "        for n in range(len(labels)):\n",
    "            if labels[n]==\"good\":\n",
    "                #print(glob.iglob(os.path.join(scr_dir2+labels[n], \"*.png\")))\n",
    "                #print(os.path.join(scr_dir2+labels[n], \"*.png\"))\n",
    "                for jpgfile in glob.iglob(os.path.join(scr_dir2+\"/\"+labels[n], \"*.png\")):\n",
    "                    filename=str(uuid.uuid4())\n",
    "                    shutil.copy(jpgfile, dst_dir+objects[member]+'/good/'+filename+'.png')\n",
    "            else:\n",
    "                for jpgfile in glob.iglob(os.path.join(scr_dir2+\"/\"+labels[n], \"*.png\")):\n",
    "                    filename=str(uuid.uuid4())\n",
    "                    shutil.copy(jpgfile, dst_dir+objects[member]+'/bad/'+filename+'.png')\n",
    "\n",
    "\n",
    "\n",
    "\n"
   ]
  },
  {
   "cell_type": "code",
   "execution_count": 4,
   "metadata": {},
   "outputs": [],
   "source": [
    "from read_and_label_Images_only_objects import read_and_label_Images_only_objects\n",
    "\n",
    "src_dir=\"orginal_Dataset/mvtec_anomaly_detection/\"\n",
    "dest_dir=\"Datasets/image_set_01/\"\n",
    "\n",
    "read_and_label_Images_only_objects(src_dir,dest_dir)\n"
   ]
  },
  {
   "cell_type": "code",
   "execution_count": 3,
   "metadata": {},
   "outputs": [],
   "source": [
    "from read_and_label_Images_ground_truth import read_and_label_Images_ground_truth\n",
    "\n",
    "src_dir=\"orginal_Dataset/mvtec_anomaly_detection/\"\n",
    "dest_dir=\"Datasets/Set_03/\"\n",
    "\n",
    "read_and_label_Images_ground_truth(src_dir,dest_dir,0.2)\n"
   ]
  },
  {
   "cell_type": "code",
   "execution_count": 5,
   "metadata": {},
   "outputs": [
    {
     "ename": "FileNotFoundError",
     "evalue": "[WinError 3] Das System kann den angegebenen Pfad nicht finden: 'Datasets/Set_03/tmp'",
     "output_type": "error",
     "traceback": [
      "\u001b[1;31m---------------------------------------------------------------------------\u001b[0m",
      "\u001b[1;31mFileNotFoundError\u001b[0m                         Traceback (most recent call last)",
      "\u001b[1;32mc:\\Users\\jonas\\Documents\\08_Master\\Semester_02\\KI_SS22\\read_images.ipynb Cell 6'\u001b[0m in \u001b[0;36m<cell line: 1>\u001b[1;34m()\u001b[0m\n\u001b[1;32m----> <a href='vscode-notebook-cell:/c%3A/Users/jonas/Documents/08_Master/Semester_02/KI_SS22/read_images.ipynb#ch0000005?line=0'>1</a>\u001b[0m labels \u001b[39m=\u001b[39m os\u001b[39m.\u001b[39;49mlistdir(\u001b[39m\"\u001b[39;49m\u001b[39mDatasets/Set_03/tmp\u001b[39;49m\u001b[39m\"\u001b[39;49m)\n\u001b[0;32m      <a href='vscode-notebook-cell:/c%3A/Users/jonas/Documents/08_Master/Semester_02/KI_SS22/read_images.ipynb#ch0000005?line=1'>2</a>\u001b[0m \u001b[39mprint\u001b[39m(\u001b[39mlen\u001b[39m(labels))\n\u001b[0;32m      <a href='vscode-notebook-cell:/c%3A/Users/jonas/Documents/08_Master/Semester_02/KI_SS22/read_images.ipynb#ch0000005?line=3'>4</a>\u001b[0m val_count\u001b[39m=\u001b[39m\u001b[39mint\u001b[39m(\u001b[39mlen\u001b[39m(labels)\u001b[39m*\u001b[39m\u001b[39m0.2\u001b[39m)\n",
      "\u001b[1;31mFileNotFoundError\u001b[0m: [WinError 3] Das System kann den angegebenen Pfad nicht finden: 'Datasets/Set_03/tmp'"
     ]
    }
   ],
   "source": [
    "labels = os.listdir(\"Datasets/Set_03/tmp\")\n",
    "print(len(labels))\n",
    "\n",
    "val_count=int(len(labels)*0.2)\n",
    "print(val_count)\n",
    "\n",
    "labels[0]"
   ]
  }
 ],
 "metadata": {
  "interpreter": {
   "hash": "9a645e18aeb71819cf10725407ffcc60917f21e6c817876a9d74fe7f4208dc16"
  },
  "kernelspec": {
   "display_name": "Python 3.10.4 ('ki_env': venv)",
   "language": "python",
   "name": "python3"
  },
  "language_info": {
   "codemirror_mode": {
    "name": "ipython",
    "version": 3
   },
   "file_extension": ".py",
   "mimetype": "text/x-python",
   "name": "python",
   "nbconvert_exporter": "python",
   "pygments_lexer": "ipython3",
   "version": "3.9.9"
  },
  "orig_nbformat": 4
 },
 "nbformat": 4,
 "nbformat_minor": 2
}
