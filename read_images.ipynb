{
 "cells": [
  {
   "cell_type": "markdown",
   "metadata": {},
   "source": [
    "### Einlesen des Datensatzes \n"
   ]
  },
  {
   "cell_type": "code",
   "execution_count": 6,
   "metadata": {},
   "outputs": [],
   "source": [
    "import numpy as np \n",
    "import pandas as np \n",
    "import os \n",
    "import shutil\n",
    "import glob\n",
    "import uuid"
   ]
  },
  {
   "cell_type": "code",
   "execution_count": 7,
   "metadata": {},
   "outputs": [],
   "source": [
    "dir=\"C:/Users/jonas/Documents/08_Master/Semester_02/KI_SS22/mvtec_anomaly_detection/\"\n",
    "\n",
    "\n",
    "#neues Verzeichnis erstellen\n",
    "objects=[]\n",
    "objects_0=os.listdir(dir)\n",
    "\n",
    "#Alle Datein die Keine Verzeichniss sind löschen\n",
    "for k in range(len(objects_0)):\n",
    "    if os.path.isdir(dir+objects_0[k]):\n",
    "        objects.append(objects_0[k])\n",
    "\n",
    "\n",
    "if not os.path.exists('bereinigte_Images/'):\n",
    "    os.makedirs('bereinigte_Images/')\n",
    "\n",
    "for member in range(len(objects)):\n",
    "    if not os.path.exists('bereinigte_Images/'+ objects[member]):\n",
    "        os.makedirs('bereinigte_Images/'+objects[member])\n",
    "    if not os.path.exists('bereinigte_Images/'+ objects[member]+'/good'):\n",
    "         os.makedirs('bereinigte_Images/'+objects[member]+'/good')\n",
    "    if not os.path.exists('bereinigte_Images/'+ objects[member]+'/bad'):\n",
    "         os.makedirs('bereinigte_Images/'+objects[member]+'/bad')\n",
    "\n",
    "\n",
    "# Daten in neues Verzeichnis kopieren \n",
    "dst_dir='bereinigte_Images/'\n",
    "scr_dir='C:/Users/jonas/Documents/08_Master/Semester_02/KI_SS22/mvtec_anomaly_detection/'\n",
    "\n",
    "\n",
    "\n",
    "for member in range(len(objects)):\n",
    "    folder_list=['/train','/test']\n",
    "    for i in range(len(folder_list)):\n",
    "        scr_dir2=scr_dir+objects[member]+folder_list[i]\n",
    "        labels=os.listdir(scr_dir2)\n",
    "        for n in range(len(labels)):\n",
    "            if labels[n]==\"good\":\n",
    "                #print(glob.iglob(os.path.join(scr_dir2+labels[n], \"*.png\")))\n",
    "                #print(os.path.join(scr_dir2+labels[n], \"*.png\"))\n",
    "                for jpgfile in glob.iglob(os.path.join(scr_dir2+\"/\"+labels[n], \"*.png\")):\n",
    "                    filename=str(uuid.uuid4())\n",
    "                    shutil.copy(jpgfile, dst_dir+objects[member]+'/good/'+filename+'.png')\n",
    "            else:\n",
    "                for jpgfile in glob.iglob(os.path.join(scr_dir2+\"/\"+labels[n], \"*.png\")):\n",
    "                    filename=str(uuid.uuid4())\n",
    "                    shutil.copy(jpgfile, dst_dir+objects[member]+'/bad/'+filename+'.png')\n",
    "\n",
    "\n",
    "\n",
    "\n"
   ]
  },
  {
   "cell_type": "code",
   "execution_count": 2,
   "metadata": {},
   "outputs": [],
   "source": [
    "from read_and_label_Images_only_objects import read_and_label_Images_only_objects\n",
    "\n",
    "src_dir=\"mvtec_anomaly_detection/\"\n",
    "dest_dir=\"bereinigte_Images_OO/\"\n",
    "\n",
    "read_and_label_Images_only_objects(src_dir,dest_dir)\n"
   ]
  },
  {
   "cell_type": "code",
   "execution_count": null,
   "metadata": {},
   "outputs": [],
   "source": []
  }
 ],
 "metadata": {
  "interpreter": {
   "hash": "9a645e18aeb71819cf10725407ffcc60917f21e6c817876a9d74fe7f4208dc16"
  },
  "kernelspec": {
   "display_name": "Python 3.10.4 ('ki_env': venv)",
   "language": "python",
   "name": "python3"
  },
  "language_info": {
   "codemirror_mode": {
    "name": "ipython",
    "version": 3
   },
   "file_extension": ".py",
   "mimetype": "text/x-python",
   "name": "python",
   "nbconvert_exporter": "python",
   "pygments_lexer": "ipython3",
   "version": "3.9.9"
  },
  "orig_nbformat": 4
 },
 "nbformat": 4,
 "nbformat_minor": 2
}
