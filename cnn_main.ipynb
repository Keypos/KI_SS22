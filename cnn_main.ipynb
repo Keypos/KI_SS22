{
 "cells": [
  {
   "cell_type": "markdown",
   "metadata": {},
   "source": [
    "# CNN Netz zum Klassifiziern "
   ]
  },
  {
   "cell_type": "code",
   "execution_count": 8,
   "metadata": {},
   "outputs": [],
   "source": [
    "from read_and_label_Images import read_and_label_Images\n",
    "from tensorflow.keras.preprocessing import image_dataset_from_directory\n",
    "import matplotlib.pyplot as plt\n",
    "import tensorflow as tf\n",
    "tf.compat.v1.set_random_seed(2019)"
   ]
  },
  {
   "cell_type": "markdown",
   "metadata": {},
   "source": [
    "### Daten laden und bereinigen"
   ]
  },
  {
   "cell_type": "code",
   "execution_count": 5,
   "metadata": {},
   "outputs": [],
   "source": [
    "old_path='mvtec_anomaly_detection/'\n",
    "new_path='bereinigte_Images/'\n",
    "read_and_label_Images(old_path,new_path)"
   ]
  },
  {
   "cell_type": "markdown",
   "metadata": {},
   "source": [
    "### Daten Laden und aufteilen "
   ]
  },
  {
   "cell_type": "code",
   "execution_count": 6,
   "metadata": {},
   "outputs": [
    {
     "name": "stdout",
     "output_type": "stream",
     "text": [
      "Found 501 files belonging to 2 classes.\n",
      "Using 401 files for training.\n",
      "Found 501 files belonging to 2 classes.\n",
      "Using 100 files for validation.\n"
     ]
    }
   ],
   "source": [
    "training_set = image_dataset_from_directory(\"bereinigte_Images/hazelnut\",\n",
    "                                             shuffle=True,\n",
    "                                             validation_split=0.2,\n",
    "                                             subset=\"training\",\n",
    "                                             batch_size=32,\n",
    "                                             image_size=(150, 150),\n",
    "                                             seed=1337,\n",
    "                                             label_mode = 'categorical')\n",
    "\n",
    "val_dataset = image_dataset_from_directory(\"bereinigte_Images/hazelnut\",\n",
    "                                                  shuffle=True,\n",
    "                                                  validation_split=0.2,\n",
    "                                                  subset='validation',\n",
    "                                                  batch_size=32,\n",
    "                                                  image_size=(150, 150),\n",
    "                                                  seed=1337,\n",
    "                                                  label_mode = 'categorical')"
   ]
  },
  {
   "cell_type": "markdown",
   "metadata": {},
   "source": [
    "## Layers des Netzes definieren "
   ]
  },
  {
   "cell_type": "code",
   "execution_count": 14,
   "metadata": {},
   "outputs": [],
   "source": [
    "model = tf.keras.models.Sequential([\n",
    "    tf.keras.layers.Rescaling(scale=1/127.5,offset=-1),\n",
    "    tf.keras.layers.Conv2D(16,(3,3),activation = \"relu\" , input_shape = (150,150,3)) ,\n",
    "    tf.keras.layers.MaxPooling2D(2,2),\n",
    "    tf.keras.layers.Conv2D(32,(3,3),activation = \"relu\") ,  \n",
    "    tf.keras.layers.MaxPooling2D(2,2),\n",
    "    tf.keras.layers.Conv2D(64,(3,3),activation = \"relu\") ,  \n",
    "    tf.keras.layers.MaxPooling2D(2,2),\n",
    "    tf.keras.layers.Conv2D(128,(3,3),activation = \"relu\"),  \n",
    "    tf.keras.layers.MaxPooling2D(2,2),\n",
    "    tf.keras.layers.Flatten(), \n",
    "    tf.keras.layers.Dense(550,activation=\"relu\"),      #Adding the Hidden layer\n",
    "    tf.keras.layers.Dropout(0.1,seed = 2019),\n",
    "    tf.keras.layers.Dense(400,activation =\"relu\"),\n",
    "    tf.keras.layers.Dropout(0.3,seed = 2019),\n",
    "    tf.keras.layers.Dense(300,activation=\"relu\"),\n",
    "    tf.keras.layers.Dropout(0.4,seed = 2019),\n",
    "    tf.keras.layers.Dense(200,activation =\"relu\"),\n",
    "    tf.keras.layers.Dropout(0.2,seed = 2019),\n",
    "    tf.keras.layers.Dense(2,activation = \"softmax\")  #Adding the Output Layer\n",
    "])"
   ]
  },
  {
   "cell_type": "markdown",
   "metadata": {},
   "source": [
    "## Erstellen eigener Metrics"
   ]
  },
  {
   "cell_type": "code",
   "execution_count": 15,
   "metadata": {},
   "outputs": [],
   "source": [
    "from keras import backend as K\n",
    "\n",
    "def recall_m(y_true, y_pred):\n",
    "    true_positives = K.sum(K.round(K.clip(y_true * y_pred, 0, 1)))\n",
    "    possible_positives = K.sum(K.round(K.clip(y_true, 0, 1)))\n",
    "    recall = true_positives / (possible_positives + K.epsilon())\n",
    "    return recall\n",
    "\n",
    "def precision_m(y_true, y_pred):\n",
    "    true_positives = K.sum(K.round(K.clip(y_true * y_pred, 0, 1)))\n",
    "    predicted_positives = K.sum(K.round(K.clip(y_pred, 0, 1)))\n",
    "    precision = true_positives / (predicted_positives + K.epsilon())\n",
    "    return precision\n",
    "\n",
    "def f1_m(y_true, y_pred):\n",
    "    precision = precision_m(y_true, y_pred)\n",
    "    recall = recall_m(y_true, y_pred)\n",
    "    return 2*((precision*recall)/(precision+recall+K.epsilon()))"
   ]
  },
  {
   "cell_type": "markdown",
   "metadata": {},
   "source": [
    "## Modell compilieren"
   ]
  },
  {
   "cell_type": "code",
   "execution_count": 16,
   "metadata": {},
   "outputs": [],
   "source": [
    "from tensorflow.keras.optimizers import RMSprop,SGD,Adam\n",
    "adam=Adam(learning_rate=0.001)\n",
    "model.compile(optimizer='adam', loss='categorical_crossentropy', metrics=['accuracy',f1_m,precision_m, recall_m])"
   ]
  },
  {
   "cell_type": "markdown",
   "metadata": {},
   "source": [
    "## Modell trainieren"
   ]
  },
  {
   "cell_type": "code",
   "execution_count": 17,
   "metadata": {},
   "outputs": [
    {
     "name": "stdout",
     "output_type": "stream",
     "text": [
      "Epoch 1/15\n",
      "13/13 [==============================] - 7s 350ms/step - loss: 0.5289 - accuracy: 0.8279 - f1_m: 0.8299 - precision_m: 0.8299 - recall_m: 0.8299 - val_loss: 0.3495 - val_accuracy: 0.8900 - val_f1_m: 0.9141 - val_precision_m: 0.9141 - val_recall_m: 0.9141\n",
      "Epoch 2/15\n",
      "13/13 [==============================] - 6s 313ms/step - loss: 0.4371 - accuracy: 0.8529 - f1_m: 0.8476 - precision_m: 0.8476 - recall_m: 0.8476 - val_loss: 0.4156 - val_accuracy: 0.8900 - val_f1_m: 0.9141 - val_precision_m: 0.9141 - val_recall_m: 0.9141\n",
      "Epoch 3/15\n",
      "13/13 [==============================] - 5s 300ms/step - loss: 0.4068 - accuracy: 0.8529 - f1_m: 0.8497 - precision_m: 0.8497 - recall_m: 0.8497 - val_loss: 0.2883 - val_accuracy: 0.8900 - val_f1_m: 0.9141 - val_precision_m: 0.9141 - val_recall_m: 0.9141\n",
      "Epoch 4/15\n",
      "13/13 [==============================] - 6s 331ms/step - loss: 0.3488 - accuracy: 0.8529 - f1_m: 0.8518 - precision_m: 0.8518 - recall_m: 0.8518 - val_loss: 0.2418 - val_accuracy: 0.8900 - val_f1_m: 0.8594 - val_precision_m: 0.8594 - val_recall_m: 0.8594\n",
      "Epoch 5/15\n",
      "13/13 [==============================] - 5s 298ms/step - loss: 0.2563 - accuracy: 0.8703 - f1_m: 0.8686 - precision_m: 0.8686 - recall_m: 0.8686 - val_loss: 0.2271 - val_accuracy: 0.9500 - val_f1_m: 0.9609 - val_precision_m: 0.9609 - val_recall_m: 0.9609\n",
      "Epoch 6/15\n",
      "13/13 [==============================] - 5s 298ms/step - loss: 0.1923 - accuracy: 0.9352 - f1_m: 0.9333 - precision_m: 0.9333 - recall_m: 0.9333 - val_loss: 0.4046 - val_accuracy: 0.9600 - val_f1_m: 0.9141 - val_precision_m: 0.9141 - val_recall_m: 0.9141\n",
      "Epoch 7/15\n",
      "13/13 [==============================] - 5s 305ms/step - loss: 0.1913 - accuracy: 0.9501 - f1_m: 0.9498 - precision_m: 0.9498 - recall_m: 0.9498 - val_loss: 0.1348 - val_accuracy: 0.9700 - val_f1_m: 0.9766 - val_precision_m: 0.9766 - val_recall_m: 0.9766\n",
      "Epoch 8/15\n",
      "13/13 [==============================] - 6s 306ms/step - loss: 0.1186 - accuracy: 0.9676 - f1_m: 0.9645 - precision_m: 0.9645 - recall_m: 0.9645 - val_loss: 0.1287 - val_accuracy: 0.9700 - val_f1_m: 0.9766 - val_precision_m: 0.9766 - val_recall_m: 0.9766\n",
      "Epoch 9/15\n",
      "13/13 [==============================] - 5s 304ms/step - loss: 0.0849 - accuracy: 0.9701 - f1_m: 0.9712 - precision_m: 0.9712 - recall_m: 0.9712 - val_loss: 0.3047 - val_accuracy: 0.9500 - val_f1_m: 0.9609 - val_precision_m: 0.9609 - val_recall_m: 0.9609\n",
      "Epoch 10/15\n",
      "13/13 [==============================] - 6s 321ms/step - loss: 0.1085 - accuracy: 0.9726 - f1_m: 0.9714 - precision_m: 0.9714 - recall_m: 0.9714 - val_loss: 0.0898 - val_accuracy: 0.9800 - val_f1_m: 0.9844 - val_precision_m: 0.9844 - val_recall_m: 0.9844\n",
      "Epoch 11/15\n",
      "13/13 [==============================] - 6s 316ms/step - loss: 0.0790 - accuracy: 0.9751 - f1_m: 0.9760 - precision_m: 0.9760 - recall_m: 0.9760 - val_loss: 0.3814 - val_accuracy: 0.9700 - val_f1_m: 0.9766 - val_precision_m: 0.9766 - val_recall_m: 0.9766\n",
      "Epoch 12/15\n",
      "13/13 [==============================] - 6s 303ms/step - loss: 0.1250 - accuracy: 0.9751 - f1_m: 0.9760 - precision_m: 0.9760 - recall_m: 0.9760 - val_loss: 0.5779 - val_accuracy: 0.9600 - val_f1_m: 0.9687 - val_precision_m: 0.9688 - val_recall_m: 0.9688\n",
      "Epoch 13/15\n",
      "13/13 [==============================] - 6s 313ms/step - loss: 0.1490 - accuracy: 0.9651 - f1_m: 0.9642 - precision_m: 0.9642 - recall_m: 0.9642 - val_loss: 0.3448 - val_accuracy: 0.9500 - val_f1_m: 0.9609 - val_precision_m: 0.9609 - val_recall_m: 0.9609\n",
      "Epoch 14/15\n",
      "13/13 [==============================] - 5s 306ms/step - loss: 0.0852 - accuracy: 0.9776 - f1_m: 0.9762 - precision_m: 0.9762 - recall_m: 0.9762 - val_loss: 0.4810 - val_accuracy: 0.9100 - val_f1_m: 0.8750 - val_precision_m: 0.8750 - val_recall_m: 0.8750\n",
      "Epoch 15/15\n",
      "13/13 [==============================] - 6s 312ms/step - loss: 0.1522 - accuracy: 0.9526 - f1_m: 0.9522 - precision_m: 0.9522 - recall_m: 0.9522 - val_loss: 0.3474 - val_accuracy: 0.9500 - val_f1_m: 0.9609 - val_precision_m: 0.9609 - val_recall_m: 0.9609\n"
     ]
    }
   ],
   "source": [
    "history=model.fit(training_set,epochs=15,validation_data=val_dataset,batch_size=128)"
   ]
  },
  {
   "cell_type": "markdown",
   "metadata": {},
   "source": [
    "### Plotten der Genauigkeit und der Loss Funktion "
   ]
  },
  {
   "cell_type": "code",
   "execution_count": 18,
   "metadata": {},
   "outputs": [
    {
     "name": "stdout",
     "output_type": "stream",
     "text": [
      "dict_keys(['loss', 'accuracy', 'f1_m', 'precision_m', 'recall_m', 'val_loss', 'val_accuracy', 'val_f1_m', 'val_precision_m', 'val_recall_m'])\n"
     ]
    },
    {
     "data": {
      "image/png": "[encoded data removed]",
      "text/plain": [
       "<Figure size 432x288 with 1 Axes>"
      ]
     },
     "metadata": {
      "needs_background": "light"
     },
     "output_type": "display_data"
    },
    {
     "data": {
      "image/png": "[encoded data removed]",
      "text/plain": [
       "<Figure size 432x288 with 1 Axes>"
      ]
     },
     "metadata": {
      "needs_background": "light"
     },
     "output_type": "display_data"
    }
   ],
   "source": [
    "print(history.history.keys())\n",
    "#  \"Accuracy\"\n",
    "plt.plot(history.history['accuracy'])\n",
    "plt.plot(history.history['val_accuracy'])\n",
    "plt.title('model accuracy')\n",
    "plt.ylabel('accuracy')\n",
    "plt.xlabel('epoch')\n",
    "plt.legend(['train', 'validation'], loc='upper left')\n",
    "plt.show()\n",
    "# \"Loss\"\n",
    "plt.plot(history.history['loss'])\n",
    "plt.plot(history.history['val_loss'])\n",
    "plt.title('model loss')\n",
    "plt.ylabel('loss')\n",
    "plt.xlabel('epoch')\n",
    "plt.legend(['train', 'validation'], loc='upper left')\n",
    "plt.show()"
   ]
  },
  {
   "cell_type": "code",
   "execution_count": 26,
   "metadata": {},
   "outputs": [
    {
     "name": "stdout",
     "output_type": "stream",
     "text": [
      "bad\n",
      "[[1. 0.]]\n",
      "good\n",
      "[[1.0000000e+00 4.3420678e-20]]\n"
     ]
    }
   ],
   "source": [
    "import cv2\n",
    "import numpy as np\n",
    "def load(filename):\n",
    "   np_image = cv2.imread(filename)\n",
    "   np_image = cv2.resize(np_image, (150, 150))\n",
    "   np_image = np.expand_dims(np_image, axis=0)\n",
    "   return np_image\n",
    "\n",
    "image = load('bereinigte_Images/hazelnut/bad/3d21d962-bda9-41ef-87a4-89e5b6b50f49.png')\n",
    "image2=load(\"bereinigte_Images/hazelnut/good/0c84f678-acf5-44a3-b690-0f4d570646ed.png\")\n",
    "#0: Dosenoeffner   1:Flaschenoeffner   2:Korkenzieher\n",
    "print(\"bad\")\n",
    "print (model.predict(image))\n",
    "print(\"good\")\n",
    "print(model.predict(image2))"
   ]
  },
  {
   "cell_type": "code",
   "execution_count": null,
   "metadata": {},
   "outputs": [],
   "source": []
  }
 ],
 "metadata": {
  "interpreter": {
   "hash": "69352bdba3fbd1ebf8c55529305c75fce6a56afb5c32a554334edbd9611002d6"
  },
  "kernelspec": {
   "display_name": "Python 3.9.9 ('venv': venv)",
   "language": "python",
   "name": "python3"
  },
  "language_info": {
   "codemirror_mode": {
    "name": "ipython",
    "version": 3
   },
   "file_extension": ".py",
   "mimetype": "text/x-python",
   "name": "python",
   "nbconvert_exporter": "python",
   "pygments_lexer": "ipython3",
   "version": "3.10.4"
  },
  "orig_nbformat": 4
 },
 "nbformat": 4,
 "nbformat_minor": 2
}
