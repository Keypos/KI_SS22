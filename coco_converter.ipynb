{
 "cells": [
  {
   "cell_type": "code",
   "execution_count": null,
   "metadata": {},
   "outputs": [],
   "source": []
  },
  {
   "cell_type": "code",
   "execution_count": 19,
   "metadata": {},
   "outputs": [],
   "source": [
    "import glob\n",
    "from coco_converter_functions import *"
   ]
  },
  {
   "cell_type": "markdown",
   "metadata": {},
   "source": [
    "## Welche Klassen?"
   ]
  },
  {
   "cell_type": "code",
   "execution_count": 20,
   "metadata": {},
   "outputs": [],
   "source": [
    "category_ids = {\n",
    "    \"Fehler\": 0,\n",
    "    #\"Backround\":1\n",
    "}\n",
    "\n",
    "category_colors = {\n",
    "    \"(255, 255, 255)\": 0, # Outlier\n",
    "    #\"(0, 0, 0)\":1\n",
    "\n",
    "}\n",
    "\n",
    "multipolygon_ids = [0]\n"
   ]
  },
  {
   "cell_type": "markdown",
   "metadata": {},
   "source": [
    "## Hauptfunktion"
   ]
  },
  {
   "cell_type": "code",
   "execution_count": 21,
   "metadata": {},
   "outputs": [],
   "source": [
    "def images_annotations_info(maskpath):\n",
    "    # This id will be automatically increased as we go\n",
    "    annotation_id = 0\n",
    "    image_id = 0\n",
    "    annotations = []\n",
    "    images = []\n",
    "    \n",
    "    for mask_image in glob.glob(maskpath + \"*.png\"):\n",
    "        # The mask image is *.png but the original image is *.jpg.\n",
    "        # We make a reference to the original file in the COCO JSON file\n",
    "        original_file_name = os.path.basename(mask_image).split(\".\")[0] + \".png\"\n",
    "\n",
    "        # Open the image and (to be sure) we convert it to RGB\n",
    "        mask_image_open = Image.open(mask_image).convert(\"RGB\")\n",
    "        w, h = mask_image_open.size\n",
    "        \n",
    "        # \"images\" info \n",
    "        image = create_image_annotation(original_file_name, w, h, image_id)\n",
    "        images.append(image)\n",
    "\n",
    "        sub_masks = create_sub_masks(mask_image_open, w, h)\n",
    "        for color, sub_mask in sub_masks.items():\n",
    "            try:\n",
    "                category_id = category_colors[color]\n",
    "            except:\n",
    "                continue    \n",
    "\n",
    "            # \"annotations\" info\n",
    "            polygons, segmentations = create_sub_mask_annotation(sub_mask)\n",
    "\n",
    "            # Check if we have classes that are a multipolygon\n",
    "            if category_id in multipolygon_ids:\n",
    "                # Combine the polygons to calculate the bounding box and area\n",
    "                multi_poly = MultiPolygon(polygons)\n",
    "                                \n",
    "                annotation = create_annotation_format(multi_poly, segmentations, image_id, category_id, annotation_id)\n",
    "\n",
    "                annotations.append(annotation)\n",
    "                annotation_id += 1\n",
    "            else:\n",
    "                for i in range(len(polygons)):\n",
    "                    # Cleaner to recalculate this variable\n",
    "                    segmentation = [np.array(polygons[i].exterior.coords).ravel().tolist()]\n",
    "                    \n",
    "                    annotation = create_annotation_format(polygons[i], segmentation, image_id, category_id, annotation_id)\n",
    "                    \n",
    "                    annotations.append(annotation)\n",
    "                    annotation_id += 1\n",
    "        image_id += 1\n",
    "    return images, annotations, annotation_id\n"
   ]
  },
  {
   "cell_type": "markdown",
   "metadata": {},
   "source": [
    "## Durchführung"
   ]
  },
  {
   "cell_type": "code",
   "execution_count": 22,
   "metadata": {},
   "outputs": [
    {
     "name": "stdout",
     "output_type": "stream",
     "text": [
      "Created 13 annotations for images in folder: dataset/train_mask/\n",
      "Created 6 annotations for images in folder: dataset/val_mask/\n"
     ]
    }
   ],
   "source": [
    " coco_format = get_coco_json_format()\n",
    "    \n",
    "for keyword in [\"train\", \"val\"]:\n",
    "    mask_path = \"dataset/{}_mask/\".format(keyword)\n",
    "    \n",
    "    # Create category section\n",
    "    coco_format[\"categories\"] = create_category_annotation(category_ids)\n",
    "\n",
    "    # Create images and annotations sections\n",
    "    coco_format[\"images\"], coco_format[\"annotations\"], annotation_cnt = images_annotations_info(mask_path)\n",
    "\n",
    "    with open(\"output/{}.json\".format(keyword),\"w\") as outfile:\n",
    "        json.dump(coco_format, outfile)\n",
    "    \n",
    "    print(\"Created %d annotations for images in folder: %s\" % (annotation_cnt, mask_path))"
   ]
  }
 ],
 "metadata": {
  "kernelspec": {
   "display_name": "tens",
   "language": "python",
   "name": "tens"
  },
  "language_info": {
   "codemirror_mode": {
    "name": "ipython",
    "version": 3
   },
   "file_extension": ".py",
   "mimetype": "text/x-python",
   "name": "python",
   "nbconvert_exporter": "python",
   "pygments_lexer": "ipython3",
   "version": "3.8.8"
  },
  "orig_nbformat": 4
 },
 "nbformat": 4,
 "nbformat_minor": 2
}
