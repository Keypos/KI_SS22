{
 "cells": [
  {
   "cell_type": "code",
   "execution_count": 1,
   "metadata": {},
   "outputs": [],
   "source": [
    "from rics_ground_truth_labeler import *"
   ]
  },
  {
   "cell_type": "code",
   "execution_count": 2,
   "metadata": {},
   "outputs": [],
   "source": [
    "ground_truth_sort(\"/home/ric/KI_python/hazelnut/ground_truth\",\"/home/ric/KI_python/KI_SS22/dataset\",0.1)\n"
   ]
  },
  {
   "cell_type": "code",
   "execution_count": 3,
   "metadata": {},
   "outputs": [],
   "source": [
    "ground_truth_sort(\"/home/ric/KI_python/hazelnut/test\",\"/home/ric/KI_python/KI_SS22/hazelnut\",0.1)"
   ]
  }
 ],
 "metadata": {
  "interpreter": {
   "hash": "af2cf02ff1f4f7ba5e8638f886fc8a23c3689248957e0ed2a6f865303812419f"
  },
  "kernelspec": {
   "display_name": "Python 3.8.10 ('Detectron2': venv)",
   "language": "python",
   "name": "python3"
  },
  "language_info": {
   "codemirror_mode": {
    "name": "ipython",
    "version": 3
   },
   "file_extension": ".py",
   "mimetype": "text/x-python",
   "name": "python",
   "nbconvert_exporter": "python",
   "pygments_lexer": "ipython3",
   "version": "3.8.10"
  },
  "orig_nbformat": 4
 },
 "nbformat": 4,
 "nbformat_minor": 2
}
